{
 "cells": [
  {
   "cell_type": "markdown",
   "metadata": {},
   "source": [
    " How much time an algorithm will take for input size n / space taken by the solution\n",
    " for proper comparison of solutions"
   ]
  },
  {
   "cell_type": "markdown",
   "metadata": {},
   "source": [
    "1. Experimental Analysis\n",
    " Write solution 1  and give varied diff input size and plot a graph btw time taken and size of input \n",
    " Focus on large no.s \n",
    " from this a relation can be genrated such as if we inc.input size by 10 and time also inc by 10 then our time complexity is :\n",
    " O(n)\n",
    "\n",
    "Problems\n",
    " - implement all of  the code\n",
    " - control the environment really properly to make sure no extra application is running\n",
    " -  design the test cases properly so that test cases are neutral for each"
   ]
  },
  {
   "cell_type": "markdown",
   "metadata": {},
   "source": [
    "2. Theoritical Analysis:\n",
    "    operations like +,-,/,* etc. are unitary operations that is they take constant time\n",
    "    whereas loops etc dosent take constant time\n",
    "     "
   ]
  },
  {
   "cell_type": "code",
   "execution_count": 6,
   "metadata": {},
   "outputs": [
    {
     "name": "stdout",
     "output_type": "stream",
     "text": [
      "5\n"
     ]
    },
    {
     "data": {
      "text/plain": [
       "120"
      ]
     },
     "execution_count": 6,
     "metadata": {},
     "output_type": "execute_result"
    }
   ],
   "source": [
    "# itterative fibonacci:\n",
    "def fib(n):\n",
    "    ans=1\n",
    "    for i in range(1,n+1):\n",
    "        ans=ans*i\n",
    "    return ans\n",
    "\n",
    "fib(int(input()))\n",
    "    "
   ]
  },
  {
   "cell_type": "markdown",
   "metadata": {},
   "source": [
    "Finding no. of operations\n",
    "\n",
    "so no. of operation in above code are 1(ans=1), 1(return ans) and then\n",
    "(no. of times loop is running)n*(1+1)(1+1 because 1 for increamenting i value and other 1 for ans=ans*i)\n",
    "so  we can say that 2n+2\n",
    "Generally we dont care about exact value and assume it as k -- so finally ot will look like k1+k2*n"
   ]
  },
  {
   "cell_type": "markdown",
   "metadata": {},
   "source": [
    "Big O notation (Worst case scenario)\n",
    "in this type of notation we assume the max value of the determined final expression of no. of operations:\n",
    "so for k1+k2*n big o will be O(n)\n",
    "ex:  k1+k2*n+k3*(nLogn)+k4n^3 - O(n^3)\n",
    "    \n",
    "A is defined as O(n) if T(A,n)<=k*n (Upper bound and [tight bound] )\n"
   ]
  },
  {
   "cell_type": "code",
   "execution_count": null,
   "metadata": {},
   "outputs": [],
   "source": [
    "# for i in range(n):\n",
    "#    k=n\n",
    "#    while k>0:\n",
    "#        k //= 2\n",
    "\n",
    "O(n)=n*logn(base 2)"
   ]
  },
  {
   "cell_type": "code",
   "execution_count": 10,
   "metadata": {},
   "outputs": [
    {
     "name": "stdout",
     "output_type": "stream",
     "text": [
      "10\n"
     ]
    }
   ],
   "source": [
    "# find largest element in array (itterative)\n",
    "def arrlarge(arr):\n",
    "    max=arr[0]\n",
    "    for i in range(1,len(arr)):\n",
    "        if arr[i]>max:\n",
    "            max=arr[i]\n",
    "    return max\n",
    "\n",
    "print(arrlarge([10,2,5,3]))\n",
    "\n",
    "# for this expression will be k1+(n*k2) k2 includes comparison,updation etc\n",
    "# for this O(n)"
   ]
  },
  {
   "cell_type": "code",
   "execution_count": null,
   "metadata": {},
   "outputs": [],
   "source": [
    "# linear search time complexity is thus O(n)"
   ]
  },
  {
   "cell_type": "code",
   "execution_count": 14,
   "metadata": {},
   "outputs": [
    {
     "name": "stdout",
     "output_type": "stream",
     "text": [
      "[5, 6, 7, 9, 10]\n"
     ]
    }
   ],
   "source": [
    "# Bubble sort:\n",
    "def bubblesort(arr):\n",
    "    l=len(arr)\n",
    "    # here we compare 2 consecutive elements until end of list and after 1 transversal largest element is at end\n",
    "    # then we compare n-1, then n-2 so on...\n",
    "    \n",
    "    for i in range(l-1):\n",
    "        for j in range(l-1-i):\n",
    "            if arr[j]>arr[j+1]:\n",
    "                arr[j],arr[j+1]=arr[j+1],arr[j]\n",
    "                \n",
    "a=[10,9,7,6,5]\n",
    "bubblesort(a)\n",
    "print(a)\n",
    "\n",
    "# so during 1 transversal k1+k2*(n-1)\n",
    "# so during 2nd k1+k2*(n-2)\n",
    "# so total we can say as: k1+k2(n-1)+k2(n-2).......k2 at end only 2 items are compared\n",
    "# so k1+(n*(n-1)/2)*k2\n",
    "# so O(n^2)"
   ]
  },
  {
   "cell_type": "raw",
   "metadata": {},
   "source": [
    "Note: ex: 1 for lopp dosent mean O(n), it depends on work being done inside the loop that matters !!"
   ]
  },
  {
   "cell_type": "code",
   "execution_count": 20,
   "metadata": {},
   "outputs": [
    {
     "name": "stdout",
     "output_type": "stream",
     "text": [
      "[6, 8, 9, 10]\n"
     ]
    }
   ],
   "source": [
    "# Insertion Sort\n",
    "\n",
    "def insertion(arr):\n",
    "    l=len(arr)\n",
    "    # here we assume / start with that only 1 element start is sorted, then compare with next element and compare and arnag them\n",
    "    # here we compare each elements with their previous positions\n",
    "    for i in range(1,l):\n",
    "        key=arr[i]\n",
    "        # move o to i-1 if less than key than swapped, else key move to position+1\n",
    "        j=i-1\n",
    "        while j >=0 and key < arr[j] : \n",
    "            arr[j+1] = arr[j] \n",
    "            j -= 1\n",
    "        arr[j+1] = key \n",
    "\n",
    "a=[10,9,8,6]\n",
    "insertion(a)\n",
    "print(a)\n"
   ]
  },
  {
   "cell_type": "markdown",
   "metadata": {},
   "source": [
    "Insertion sort performs two operations: it scans through the list, comparing each pair of elements\n",
    "and it swaps elements if they are out of order. Each operation contributes to the running time of the algorithm.\n",
    "If the input array is already in sorted order, insertion sort compares O(n) elements and performs no swaps \n",
    "(in the Python code above, the inner loop is never triggered). Therefore, in the best case, insertion sort runs in O(n)\n",
    "\n",
    "Worst case: (decreasing order of list)\n",
    "To insert the last element, we need at most n-1n−1 comparisons and at most n-1n−1 swaps.    \n",
    "The number of operations needed to perform insertion sort is therefore: 2 \\times (1+2+.... +n-2+n-1)\n",
    "which is O(n^2). "
   ]
  },
  {
   "cell_type": "code",
   "execution_count": 30,
   "metadata": {},
   "outputs": [
    {
     "name": "stdout",
     "output_type": "stream",
     "text": [
      "[6, 7, 8, 9, 10]\n"
     ]
    }
   ],
   "source": [
    "# Selection Sorting\n",
    "def selection(arr):\n",
    "    l=len(arr)\n",
    "    for i in range(l):\n",
    "        min=i\n",
    "        for j in range(i+1,l):\n",
    "            if arr[min]>arr[j]:\n",
    "                min=j\n",
    "        arr[i],arr[min]=arr[min],arr[i]\n",
    "    \n",
    "a=[10,9,8,7,6]\n",
    "selection(a)\n",
    "print(a)"
   ]
  },
  {
   "cell_type": "markdown",
   "metadata": {},
   "source": [
    "Selection sort :\n",
    "no. of operations=[k2*(n-1)+k2(n-2)....k2] + k1\n",
    "\n",
    "so (n-1)*(n-2)/2- O(n^2)"
   ]
  },
  {
   "cell_type": "code",
   "execution_count": null,
   "metadata": {},
   "outputs": [],
   "source": [
    "# Theoritical analysis for recursion\n",
    "# create a  recursion relation ex T(n)=k+T(n-1)\n",
    "# and then solve "
   ]
  },
  {
   "cell_type": "code",
   "execution_count": 25,
   "metadata": {},
   "outputs": [
    {
     "name": "stdout",
     "output_type": "stream",
     "text": [
      "10\n"
     ]
    }
   ],
   "source": [
    "# find largest element in array (Recursive)\n",
    "def arrlarge(arr):\n",
    "    l=len(arr)\n",
    "    if l==1:\n",
    "        return arr[l-1]\n",
    "    return max(arr[0],arrlarge(arr[1:]))\n",
    "\n",
    "print(arrlarge([10,2,5,3]))\n",
    "\n",
    "# T(n)=K+T(n-1)\n",
    "# T(n-1)=k+T(n-2)\n",
    "# all the terms cancel out ultimately T(n)=k*(no. of times)\n",
    "# no. of times will be n-1 \n",
    "# for this O(n)"
   ]
  },
  {
   "cell_type": "code",
   "execution_count": 37,
   "metadata": {},
   "outputs": [
    {
     "name": "stdout",
     "output_type": "stream",
     "text": [
      "4\n",
      "1 5 6 8\n",
      "8\n"
     ]
    },
    {
     "data": {
      "text/plain": [
       "3"
      ]
     },
     "execution_count": 37,
     "metadata": {},
     "output_type": "execute_result"
    }
   ],
   "source": [
    "#Binary search-- array to be sorted\n",
    "\n",
    "def binarysearch(arr,x,si,ei):\n",
    "    if si>ei:\n",
    "        return -1\n",
    "    mid=(si+ei)//2\n",
    "    if arr[mid]==x:\n",
    "        return mid\n",
    "    if arr[mid]>x:\n",
    "        return binarysearch(arr,x,si,ei=mid-1)\n",
    "    else:\n",
    "        return binarysearch(arr,x,mid+1,ei)\n",
    "    \n",
    "\n",
    "n=int(input())\n",
    "arr=list(int(i) for i in input().strip().split(' '))\n",
    "x=int(input())\n",
    "binarysearch(arr,x,0,n-1)\n",
    "\n",
    "# T(n)=T(n/2)+k\n",
    "# n/2^x=1 to find no. of times its repeated i.e. x\n",
    "# so x=log(n)\n",
    "# O(n)=x*k=logn(base 2)"
   ]
  },
  {
   "cell_type": "code",
   "execution_count": 38,
   "metadata": {},
   "outputs": [
    {
     "name": "stdout",
     "output_type": "stream",
     "text": [
      "5\n",
      "1 4 2 5 3\n",
      "[1, 2, 3, 4, 5]\n"
     ]
    }
   ],
   "source": [
    "# Foe merge sort\n",
    "\n",
    "def merge(a,b,arr):\n",
    "    i=0\n",
    "    j=0\n",
    "    k=0\n",
    "    while i<len(a) and j<len(b):\n",
    "        if a[i]<b[j]:\n",
    "            arr[k]=a[i]\n",
    "            i+=1\n",
    "            k+=1\n",
    "        else:\n",
    "            arr[k]=b[j]\n",
    "            k+=1\n",
    "            j+=1\n",
    "    \n",
    "    while i<len(a):\n",
    "        arr[k]=a[i]\n",
    "        i+=1\n",
    "        k+=1\n",
    "    \n",
    "    while j<len(b):\n",
    "        arr[k]=b[j]\n",
    "        k+=1\n",
    "        j+=1\n",
    "            \n",
    "def mergesort(arr):\n",
    "    l=len(arr)\n",
    "    if l==0 or l==1:\n",
    "        return \n",
    "    mid=l//2\n",
    "    \n",
    "    a=arr[0:mid]\n",
    "    b=arr[mid:]\n",
    "    \n",
    "    mergesort(a)\n",
    "    mergesort(b)\n",
    "    \n",
    "    merge(a,b,arr)\n",
    "    \n",
    "n=int(input())\n",
    "arr=list(int(i) for i in input().strip().split(' '))\n",
    "mergesort(arr)\n",
    "print(arr)\n",
    "\n",
    "# Recurence relation is T(n)=2*T(n/2)[for splitting list into 2 parts]+O(n)[for merging 2 list]\n",
    "# O(n*log(n)\n",
    "# space complexity O(n)"
   ]
  },
  {
   "cell_type": "code",
   "execution_count": 43,
   "metadata": {},
   "outputs": [
    {
     "name": "stdout",
     "output_type": "stream",
     "text": [
      "4\n"
     ]
    },
    {
     "data": {
      "text/plain": [
       "3"
      ]
     },
     "execution_count": 43,
     "metadata": {},
     "output_type": "execute_result"
    }
   ],
   "source": [
    "def fib(n): \n",
    "    if n == 1 or n == 2:\n",
    "        return 1\n",
    "    return fib(n - 1) + fib(n - 2)\n",
    "\n",
    "fib(int(input()))\n",
    "\n",
    "# this is much betetr using recursion tree4k\n",
    "# T(n)=T(n-1)+T(n-2)+k\n",
    "# T(n) = 2^n - 1\n",
    "# O(2^n)"
   ]
  },
  {
   "cell_type": "markdown",
   "metadata": {},
   "source": [
    "# Space complexity\n",
    "1. Auxilary space, we only count for extra space used by us\n",
    "2. at ay point in time\n",
    "3. when using recursion it takes place...\n"
   ]
  },
  {
   "cell_type": "markdown",
   "metadata": {},
   "source": [
    "for mergesort O(n):\n",
    " but this is not because that we are splitting the array in 2 parts again and again so at each level n space recuiremennt\n",
    " and then we have logn levels so taotal space is n*logn\n",
    " no when we recursively cally at 1 half other half is not called until we return so  we have something like this:\n",
    " n+n/2+n/4+n/8....1\n",
    " almost 2n -- i.e O(n)"
   ]
  },
  {
   "cell_type": "markdown",
   "metadata": {},
   "source": [
    "Quicksort\n",
    " in quick sort partition function will take O(n)-because yiou ae transversing whole list to calculate count and then \n",
    " again you are just moving i and j to arrrange list in desired manner\n",
    " for recursive call it depends:\n",
    "\n",
    " 1. Worst case is when split is such that that pivot element is at start or at end in such case split is n-1 and 1\n",
    " so T(n)=T(n-1)+kn\n",
    " solving this we get T(n)=kn^2\n",
    " so O(n^2)\n",
    "\n",
    " 2. avg case when split is  half half:\n",
    " in this  T(n)=2*T(n/2)+kn\n",
    " O(nlogn)\n",
    "\n",
    "but using randomized algorithms its not necessary we always get the worst case thats why we take O(nlogn)\n",
    "\n",
    " space complexity-  for partition it takes constant space\n",
    " for recursive call it depends on how its split lets take avg case of 1/4 and 3/4\n",
    " so space will be n+3n/4+ (3/4)**2*n.....1\n",
    " and to calcualte no. of times: ((3/4)^x)(n)=1\n",
    " where x comes to be logn(base 4/3) which can convert to logn (base 2)"
   ]
  },
  {
   "cell_type": "code",
   "execution_count": 58,
   "metadata": {},
   "outputs": [
    {
     "name": "stdout",
     "output_type": "stream",
     "text": [
      "3 4\n",
      "81\n"
     ]
    }
   ],
   "source": [
    "# Analysis of Power function:Try to reduce time complexity\n",
    "\n",
    "def power(x,n):\n",
    "    if n==0:\n",
    "        return 1\n",
    "    if  x==0:\n",
    "        return 0\n",
    "    if n==1:\n",
    "        return x\n",
    "    \n",
    "    a=power(x,n//2)\n",
    "    \n",
    "    if n%2==0:\n",
    "        return a**2\n",
    "    else:\n",
    "        return a**2*x\n",
    "    \n",
    "from sys import setrecursionlimit\n",
    "setrecursionlimit(11000)\n",
    "x, n=list(int(i) for i in input().strip().split(' '))\n",
    "\n",
    "print(power(x, n))"
   ]
  },
  {
   "cell_type": "code",
   "execution_count": 54,
   "metadata": {},
   "outputs": [
    {
     "name": "stdout",
     "output_type": "stream",
     "text": [
      "4 5\n",
      "1024\n"
     ]
    }
   ],
   "source": [
    "def power(x, n):\n",
    "    if n==0:\n",
    "        return 1\n",
    "    if x==0:\n",
    "        return 0\n",
    "    if n==1:\n",
    "        return x\n",
    "    \n",
    "    a=power(x,n//2)\n",
    "    \n",
    "    if n%2==0:\n",
    "        return a**2\n",
    "    else:\n",
    "        return (a**2)*x\n",
    "# Main\n",
    "from sys import setrecursionlimit\n",
    "setrecursionlimit(11000)\n",
    "x, n=list(int(i) for i in input().strip().split(' '))\n",
    "print(power(x, n))"
   ]
  },
  {
   "cell_type": "code",
   "execution_count": 72,
   "metadata": {},
   "outputs": [
    {
     "name": "stdout",
     "output_type": "stream",
     "text": [
      "5\n",
      "1 7 6 4 2\n",
      "5\n",
      "1 3 2 6 2\n",
      "1\n",
      "6\n",
      "2\n",
      "2\n"
     ]
    }
   ],
   "source": [
    "#Method 1 \n",
    "def intersection(arr1, arr2):\n",
    "    for i in range(len(arr1)):\n",
    "        s=arr1[i]\n",
    "        for j in range(len(arr2)):\n",
    "            if s==arr2[j]:\n",
    "                print(s)\n",
    "                \n",
    "\n",
    "\n",
    "# Main\n",
    "n1=int(input())\n",
    "arr1=list(int(i) for i in input().strip().split(' '))\n",
    "n2=int(input())\n",
    "arr2=list(int(i) for i in input().strip().split(' '))\n",
    "\n",
    "intersection(arr1, arr2) \n",
    "\n",
    "#TIME COMPLEXITY IS O(mn) , m& n are two array size"
   ]
  },
  {
   "cell_type": "code",
   "execution_count": 71,
   "metadata": {},
   "outputs": [
    {
     "name": "stdout",
     "output_type": "stream",
     "text": [
      "4\n",
      "1 5 2 2 \n",
      "5\n",
      "1 9 2 8 1\n",
      "1\n",
      "2\n"
     ]
    }
   ],
   "source": [
    "# Print all the elements whch are interstion of 2 list\n",
    "# method 2 sort both of them and then tranverse through list\n",
    "\n",
    "def merge(a,b,arr):\n",
    "    i=0\n",
    "    j=0\n",
    "    k=0\n",
    "    while i<len(a) and j<len(b):\n",
    "        if a[i]<b[j]:\n",
    "            arr[k]=a[i]\n",
    "            k+=1\n",
    "            i+=1\n",
    "        else:\n",
    "            arr[k]=b[j]\n",
    "            k+=1\n",
    "            j+=1\n",
    "    while i<len(a):\n",
    "        arr[k]=a[i]\n",
    "        k+=1\n",
    "        i+=1\n",
    "    while j<len(b):\n",
    "        arr[k]=b[j]\n",
    "        k+=1\n",
    "        j+=1\n",
    "\n",
    "\n",
    "def mergesort(arr):\n",
    "    if len(arr)==0 or len(arr)==1:\n",
    "        return \n",
    "    mid=len(arr)//2\n",
    "    a=arr[0:mid]\n",
    "    b=arr[mid:]\n",
    "    mergesort(a)\n",
    "    mergesort(b)\n",
    "    merge(a,b,arr)\n",
    "    \n",
    "def intersection(arr1,arr2):\n",
    "    i=0\n",
    "    j=0\n",
    "    while i<len(arr1) and j<len(arr2):\n",
    "        if arr1[i]<arr2[j]:\n",
    "            i+=1\n",
    "        elif arr2[j]<arr1[i]:\n",
    "            j+=1\n",
    "        else:\n",
    "            print(arr1[i])\n",
    "            i+=1\n",
    "            j+=1\n",
    "        \n",
    "# Main\n",
    "from sys import setrecursionlimit\n",
    "setrecursionlimit(11000)\n",
    "n1=int(input())\n",
    "arr1=list(int(i) for i in input().strip().split(' '))\n",
    "n2=int(input())\n",
    "arr2=list(int(i) for i in input().strip().split(' '))\n",
    "mergesort(arr1)\n",
    "mergesort(arr2)\n",
    "intersection(arr1, arr2) \n",
    "\n",
    "# T(n)=nlogn+mlogm+ m+n\n",
    "# O(nlogn+mlogm)"
   ]
  },
  {
   "cell_type": "code",
   "execution_count": 69,
   "metadata": {
    "scrolled": true
   },
   "outputs": [
    {
     "name": "stdout",
     "output_type": "stream",
     "text": [
      "4\n",
      "1 3 2 2\n",
      "5\n",
      "1 2 7 8 1\n",
      "1\n",
      "2\n",
      "2\n"
     ]
    }
   ],
   "source": [
    "# But this should work where is the error at?\n",
    "\n",
    "#Method 2 sort one which has lesser no. of elements and then use binary search\n",
    "\n",
    "def merge(a,b,arr):\n",
    "    i=0\n",
    "    j=0\n",
    "    k=0\n",
    "    while i<len(a) and j<len(b):\n",
    "        if a[i]<b[j]:\n",
    "            arr[k]=a[i]\n",
    "            k+=1\n",
    "            i+=1\n",
    "        else:\n",
    "            arr[k]=b[j]\n",
    "            k+=1\n",
    "            j+=1\n",
    "    while i<len(a):\n",
    "        arr[k]=a[i]\n",
    "        k+=1\n",
    "        i+=1\n",
    "    while j<len(b):\n",
    "        arr[k]=b[j]\n",
    "        k+=1\n",
    "        j+=1\n",
    "\n",
    "\n",
    "def mergesort(arr):\n",
    "    if len(arr)==0 or len(arr)==1:\n",
    "        return \n",
    "    mid=len(arr)//2\n",
    "    a=arr[0:mid]\n",
    "    b=arr[mid:]\n",
    "    mergesort(a)\n",
    "    mergesort(b)\n",
    "    merge(a,b,arr)\n",
    "\n",
    "def binarysearch(arr,x,si,ei):\n",
    "    if si>ei:\n",
    "        return -1\n",
    "    mid=(si+ei)//2\n",
    "    if arr[mid]==x:\n",
    "        print(arr[mid])\n",
    "    if arr[mid]>x:\n",
    "        return binarysearch(arr,x,si,ei=mid-1)\n",
    "    else:\n",
    "        return binarysearch(arr,x,mid+1,ei)\n",
    "\n",
    "def intersection(arr1,arr2):\n",
    "    l1=len(arr1)\n",
    "    l2=len(arr2)\n",
    "    if l1<l2:\n",
    "        mergesort(arr1)\n",
    "        i=0\n",
    "        e=[]\n",
    "        while i<l2:\n",
    "            d=arr2[i]\n",
    "            if d not in e:\n",
    "                binarysearch(arr1,d,0,l1-1)\n",
    "                e.append(d)\n",
    "                i+=1\n",
    "            else:\n",
    "                i+=1\n",
    "    else:\n",
    "        mergesort(arr2)\n",
    "        e=[]\n",
    "        i=0\n",
    "        while i<l1:\n",
    "            d=arr1[i]\n",
    "            if d not in e:\n",
    "                binarysearch(arr2,arr1[i],0,l2-1)\n",
    "                e.append(d)\n",
    "                i+=1\n",
    "            else:\n",
    "                i+=1\n",
    "        \n",
    "        \n",
    "# Main\n",
    "from sys import setrecursionlimit\n",
    "setrecursionlimit(11000)\n",
    "n1=int(input())\n",
    "arr1=list(int(i) for i in input().strip().split(' '))\n",
    "n2=int(input())\n",
    "arr2=list(int(i) for i in input().strip().split(' ')) \n",
    "intersection(arr1, arr2) \n",
    "\n",
    "# T(n)=nlogn [this is from merge sort]+m*logn +[this is from binary search for m elements]\n",
    "# so O(nlogn +mlogn)"
   ]
  },
  {
   "cell_type": "code",
   "execution_count": 73,
   "metadata": {},
   "outputs": [
    {
     "name": "stdout",
     "output_type": "stream",
     "text": [
      "5\n",
      "1 2 5 4 -1\n",
      "2\n"
     ]
    }
   ],
   "source": [
    "#ARRAY EQUILIBRIUM INDEX-----Method 1\n",
    "\n",
    "def sum_cal(arr):\n",
    "    sum=0\n",
    "    for i in range(len(arr)):\n",
    "        sum+=arr[i]\n",
    "    \n",
    "    return sum\n",
    "\n",
    "\n",
    "def equilibriumIndex(arr):\n",
    "    for i in range(1,len(arr)):\n",
    "        if sum_cal(arr[0:i])==sum_cal(arr[i+1:]):\n",
    "            return i\n",
    "        \n",
    "    return -1\n",
    "    \n",
    "#main\n",
    "n = int(input())\n",
    "arr = [int(i) for i in input().strip().split()]\n",
    "print(equilibriumIndex(arr))\n",
    "\n",
    "# Time Complexity O(n^2) as kn work is being ddone n times"
   ]
  },
  {
   "cell_type": "code",
   "execution_count": 75,
   "metadata": {},
   "outputs": [
    {
     "name": "stdout",
     "output_type": "stream",
     "text": [
      "5\n",
      "1 2 3 4 -1\n",
      "2\n"
     ]
    }
   ],
   "source": [
    "#  Equilibrium Index\n",
    "# here \n",
    "\n",
    "def sum_cal(arr):\n",
    "    sum=0\n",
    "    for i in range(len(arr)):\n",
    "        sum+=arr[i]\n",
    "    return sum\n",
    "\n",
    "def equilibriumIndex(arr):\n",
    "    left_sum=0\n",
    "    right_sum=sum_cal(arr)-arr[0]\n",
    "    for i in range(1,len(arr)):\n",
    "        left_sum=left_sum+arr[i-1]\n",
    "        right_sum=right_sum-arr[i]\n",
    "        if left_sum==right_sum:\n",
    "            return i\n",
    "    return -1\n",
    "\n",
    "#main\n",
    "n = int(input())\n",
    "arr = [int(i) for i in input().strip().split()]\n",
    "print(equilibriumIndex(arr))\n",
    "\n",
    "# Time complexity is O(n) as we dont have to trransverse over whole list again and again just to get thwe sum"
   ]
  },
  {
   "cell_type": "code",
   "execution_count": 76,
   "metadata": {},
   "outputs": [
    {
     "name": "stdout",
     "output_type": "stream",
     "text": [
      "5\n",
      "1 6 1 2 6\n",
      "2\n"
     ]
    }
   ],
   "source": [
    "# Find unique no. from list (where only 1 unique no. is present)\n",
    "# Method-1\n",
    "\n",
    "def FindUnique(arr):\n",
    "    \n",
    "    # Uaing XOR\n",
    "    s=arr[0]\n",
    "    for i in range(1,len(arr)):\n",
    "        s=s^arr[i]\n",
    "    return s\n",
    "\n",
    "# Main\n",
    "n=int(input())\n",
    "arr=list(int(i) for i in input().strip().split(' '))\n",
    "unique=FindUnique(arr)\n",
    "print(unique)\n",
    "\n",
    "# property of xor is that if A^A then it will become 0\n",
    "# so here 1^1^2^3^3 will result in 0^2^0 which will give 2\n",
    "# T(n)=O(n)\n"
   ]
  },
  {
   "cell_type": "code",
   "execution_count": 78,
   "metadata": {},
   "outputs": [
    {
     "name": "stdout",
     "output_type": "stream",
     "text": [
      "5\n",
      "1 9 9 1 2\n",
      "2\n"
     ]
    }
   ],
   "source": [
    "# Find unique no. from list (where only 1 unique no. is present)\n",
    "# Method-2\n",
    "\n",
    "def merge(a,b,arr):\n",
    "    i=0\n",
    "    j=0\n",
    "    k=0\n",
    "    while i<len(a) and j<len(b):\n",
    "        if a[i]<b[j]:\n",
    "            arr[k]=a[i]\n",
    "            k+=1\n",
    "            i+=1\n",
    "        else:\n",
    "            arr[k]=b[j]\n",
    "            k+=1\n",
    "            j+=1\n",
    "            \n",
    "    while i<len(a):\n",
    "        arr[k]=a[i]\n",
    "        k+=1\n",
    "        i+=1\n",
    "        \n",
    "    while j<len(b):\n",
    "        arr[k]=b[j]\n",
    "        k+=1\n",
    "        j+=1\n",
    "        \n",
    "def mergesort(arr):\n",
    "    if len(arr)==0 or len(arr)==1:\n",
    "        return\n",
    "    mid=len(arr)//2\n",
    "    a=arr[0:mid]\n",
    "    b=arr[mid:]\n",
    "    mergesort(a)\n",
    "    mergesort(b)\n",
    "    merge(a,b,arr)\n",
    "\n",
    "def FindUnique(arr):\n",
    "    mergesort(arr)\n",
    "    for i in range(len(arr)):\n",
    "        if arr[i]!=arr[i+1]:\n",
    "            # lets take ex: 1 1 2 4 4 so we will ake comparison with 1 and 2(i=1 and i=2) and will return arr[2]\n",
    "            if i%2==0:\n",
    "                return arr[i]\n",
    "            else:\n",
    "                return arr[i+1]\n",
    "\n",
    "# Main\n",
    "from sys import setrecursionlimit\n",
    "setrecursionlimit(11000)\n",
    "n=int(input())\n",
    "arr=list(int(i) for i in input().strip().split(' '))\n",
    "unique=FindUnique(arr)\n",
    "print(unique)\n",
    "\n",
    "# Time  complexity = nlogn(for sorting)+n (for transversing through list)\n",
    "# O(nlogn)"
   ]
  },
  {
   "cell_type": "code",
   "execution_count": 79,
   "metadata": {},
   "outputs": [
    {
     "name": "stdout",
     "output_type": "stream",
     "text": [
      "7\n",
      "0 1 4 5 2 3 1\n",
      "1\n"
     ]
    }
   ],
   "source": [
    "# If input of nis given then list iincludes no. form 0 to n-2 as specified in qn and each ellement at least once\n",
    "# Method -1 sort and then search\n",
    "\n",
    "def FindUnique(arr):\n",
    "    mergesort(arr)\n",
    "    for i in range(len(arr)):\n",
    "        if arr[i]==arr[i+1]:\n",
    "            if i%2==0:\n",
    "                return arr[i]\n",
    "            else:\n",
    "                return arr[i+1]\n",
    "            \n",
    "n=int(input())\n",
    "arr=list(int(i) for i in input().strip().split(' '))\n",
    "ans=FindUnique(arr)\n",
    "print(ans)"
   ]
  },
  {
   "cell_type": "code",
   "execution_count": 82,
   "metadata": {},
   "outputs": [
    {
     "name": "stdout",
     "output_type": "stream",
     "text": [
      "7\n",
      "0 1 5 4 5 2 3\n",
      "5\n"
     ]
    }
   ],
   "source": [
    "# If input of nis given then list iincludes no. form 0 to n-2 as specified in qn \n",
    "# Method -2 calculate total sum and - (n-2)*(n-1)/2\n",
    "# this will give duplicate value\n",
    "\n",
    "def sum_arr(arr):\n",
    "    s=0\n",
    "    for i in range(len(arr)):\n",
    "        s=s+arr[i]\n",
    "    return s\n",
    "\n",
    "def FindUnique(arr):\n",
    "    n=len(arr)\n",
    "    c=sum_arr(arr)\n",
    "    d=c-((n-2)*(n-1))//2\n",
    "    return d\n",
    "\n",
    "# Main\n",
    "n=int(input())\n",
    "arr=list(int(i) for i in input().strip().split(' '))\n",
    "ans=FindUnique(arr)\n",
    "print(ans)\n",
    "\n",
    "\n",
    "# Time complexity is O(n)"
   ]
  },
  {
   "cell_type": "code",
   "execution_count": 83,
   "metadata": {},
   "outputs": [
    {
     "name": "stdout",
     "output_type": "stream",
     "text": [
      "9\n",
      "1 3 6 2 5 4 3 2 4\n",
      "7\n",
      "1 6\n",
      "2 5\n",
      "2 5\n",
      "3 4\n",
      "3 4\n",
      "3 4\n",
      "3 4\n"
     ]
    }
   ],
   "source": [
    "# print all pairs whose sum is equal to given integer\n",
    "\n",
    "def pairSum(arr, x):\n",
    "    arr.sort()\n",
    "    i=0\n",
    "    j=len(arr)-1\n",
    "    while i<j:\n",
    "        if arr[i]+arr[j]<x:\n",
    "            i+=1\n",
    "        elif arr[i]+arr[j]>x:\n",
    "            j-=1\n",
    "        elif arr[i]+arr[j]==x:\n",
    "            count = arr[i+1:].count(arr[j])\n",
    "            for k in range(count):\n",
    "                print(arr[i],arr[j]) \n",
    "            i+=1\n",
    "                                       \n",
    "# Main\n",
    "n=int(input())\n",
    "arr=list(int(i) for i in input().strip().split(' '))\n",
    "sum=int(input())\n",
    "pairSum(arr, sum)\n",
    "\n",
    "# Ime complexity is nlogn + n\n",
    "# O(nlogn)"
   ]
  },
  {
   "cell_type": "code",
   "execution_count": null,
   "metadata": {},
   "outputs": [],
   "source": [
    "# Triple sum in array\n",
    "# brute force method\n",
    "def tripleSum(arr, x):\n",
    "    for i in range(len(arr)):\n",
    "        for j in range(i+1,len(arr)):\n",
    "            for k in range(j+1,len(arr)):\n",
    "                if arr[i]+arr[j]+arr[k]==x:\n",
    "                    c=max(arr[i],arr[j],arr[k])\n",
    "                    d=min(arr[i],arr[j],arr[k])\n",
    "                    print(d,end=' ')\n",
    "                    print(x-d-c,end=' ')\n",
    "                    print(c)\n",
    "                                       \n",
    "# Main\n",
    "n=int(input())\n",
    "arr=list(int(i) for i in input().strip().split(' '))\n",
    "sum=int(input())\n",
    "tripleSum(arr, sum)\n",
    "\n",
    "# O(n^3)"
   ]
  },
  {
   "cell_type": "code",
   "execution_count": 120,
   "metadata": {},
   "outputs": [
    {
     "name": "stdout",
     "output_type": "stream",
     "text": [
      "5\n",
      "1 2 2 2 2\n",
      "6\n",
      "2 2 2\n",
      "2 2 2\n",
      "2 2 2\n",
      "2 2 2\n"
     ]
    }
   ],
   "source": [
    "def tripletSum(arr, x):\n",
    "    arr.sort()\n",
    "    for i in range (0,len(arr)-1):\n",
    "        st=i+1\n",
    "        end=len(arr)-1\n",
    "        val=x-arr[i]\n",
    "        while st<end:\n",
    "            if(arr[st]+arr[end]>val):\n",
    "                end-=1\n",
    "            elif(arr[st]+arr[end]<val):\n",
    "                st+=1\n",
    "            else:\n",
    "                count1=0\n",
    "                count2=0\n",
    "                for ptr in range(st,end):\n",
    "                    if(arr[ptr]==arr[st]):\n",
    "                        count1+=1\n",
    "                    else:\n",
    "                        break\n",
    "                for ptr in range(end,st,-1):\n",
    "                    if(arr[ptr]==arr[end]):\n",
    "                        count2+=1\n",
    "                    else:\n",
    "                        break\n",
    "                comb=count1*count2\n",
    "                if(arr[st]==arr[end]):\n",
    "                    comb=((end-st+1)*(end-st))//2\n",
    "                for k in range(0,comb):\n",
    "                    print(arr[i],end=\" \")\n",
    "                    print(arr[st],end=\" \")\n",
    "                    print(arr[end])\n",
    "                st+=1\n",
    "                end=end-count2\n",
    "\n",
    "n=int(input())\n",
    "arr=list(int(i) for i in input().strip().split(' '))\n",
    "x=int(input())\n",
    "tripletSum(arr, x)\n",
    "\n",
    "# Order O(n^2)"
   ]
  },
  {
   "cell_type": "code",
   "execution_count": 138,
   "metadata": {},
   "outputs": [
    {
     "name": "stdout",
     "output_type": "stream",
     "text": [
      "5\n",
      "1 2 3 4 5\n",
      "3\n",
      "[4, 5, 1, 2, 3]\n"
     ]
    }
   ],
   "source": [
    "#Rotate Array\n",
    "\n",
    "def reverse_array(a,  start, end):\n",
    "    while start<end:\n",
    "        a[start],a[end]=a[end], a[start]\n",
    "        start+=1\n",
    "        end-=1\n",
    "    return a\n",
    "\n",
    "def rotate(arr,size,d):\n",
    "    reverse_array(arr,0,size-1)\n",
    "    arr=reverse_array(arr[0:size-d],0,len(arr[0:size-d])-1)+reverse_array(arr[size-d:],0,len(arr[size-d:])-1)\n",
    "    return arr\n",
    "\n",
    "def takeInput() :\n",
    "    n = int(input().strip())\n",
    "    if n != 0:\n",
    "        arr = [int(element) for element in list(input().strip().split())]\n",
    "        return arr, n\n",
    "\n",
    "    return list(), 0\n",
    "\n",
    "arr, n = takeInput()\n",
    "d = int(input().strip())\n",
    "\n",
    "print(rotate(arr, n, d))\n",
    "\n",
    "# O(n)\n",
    "# but below method is much more\n"
   ]
  },
  {
   "cell_type": "code",
   "execution_count": 136,
   "metadata": {},
   "outputs": [
    {
     "name": "stdout",
     "output_type": "stream",
     "text": [
      "20\n",
      "1 2 3 4 5 6 7 8 9 10 11 12 13 14 15 16 17 18 19 20\n",
      "10\n",
      "11 12 13 14 15 16 17 18 19 20 1 2 3 4 5 6 7 8 9 10 \n"
     ]
    }
   ],
   "source": [
    "#Method 2\n",
    "\n",
    "def rotate(arr,size,d):\n",
    "    t=arr[0:d]\n",
    "    for i in range(d,size):\n",
    "        arr[i-d]=arr[i]\n",
    "    for i in range(size-d,size):\n",
    "        arr[i]=t[i-(size-d)]\n",
    "            \n",
    "def takeInput() :\n",
    "    n = int(input().strip())\n",
    "    if n != 0:\n",
    "        arr = [int(element) for element in list(input().strip().split())]\n",
    "        return arr, n\n",
    "\n",
    "    return list(), 0\n",
    "\n",
    "\n",
    "\n",
    "def printList(arr, n) : \n",
    "    for element in arr :\n",
    "        print(element, end = \" \")\n",
    "    print()\n",
    "\n",
    "\n",
    "#main\n",
    "arr, n = takeInput()\n",
    "d = int(input().strip())\n",
    "\n",
    "rotate(arr, n, d)\n",
    "printList(arr, n)\n",
    "\n",
    "# O(n)\n"
   ]
  },
  {
   "cell_type": "code",
   "execution_count": null,
   "metadata": {},
   "outputs": [],
   "source": []
  }
 ],
 "metadata": {
  "kernelspec": {
   "display_name": "Python 3",
   "language": "python",
   "name": "python3"
  },
  "language_info": {
   "codemirror_mode": {
    "name": "ipython",
    "version": 3
   },
   "file_extension": ".py",
   "mimetype": "text/x-python",
   "name": "python",
   "nbconvert_exporter": "python",
   "pygments_lexer": "ipython3",
   "version": "3.7.6"
  }
 },
 "nbformat": 4,
 "nbformat_minor": 4
}
